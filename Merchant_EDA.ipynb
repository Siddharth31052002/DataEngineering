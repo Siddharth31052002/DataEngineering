{
  "nbformat": 4,
  "nbformat_minor": 2,
  "cells": [
    {
      "cell_type": "markdown",
      "metadata": {
        "nteract": {
          "transient": {
            "deleting": false
          }
        }
      },
      "source": [
        "### MERCHANT_EDA"
      ]
    },
    {
      "cell_type": "code",
      "execution_count": 19,
      "outputs": [
        {
          "output_type": "display_data",
          "data": {
            "application/vnd.livy.statement-meta+json": {
              "spark_pool": "cfraudsparkpool",
              "statement_id": 2,
              "statement_ids": [
                2
              ],
              "state": "finished",
              "livy_statement_state": "available",
              "spark_jobs": null,
              "session_id": "65",
              "normalized_state": "finished",
              "queued_time": "2025-05-12T08:59:32.2620325Z",
              "session_start_time": "2025-05-12T08:59:32.2640215Z",
              "execution_start_time": "2025-05-12T09:01:47.0112485Z",
              "execution_finish_time": "2025-05-12T09:01:47.3336108Z",
              "parent_msg_id": "4dd04e1d-a4f4-4abd-a257-fcc6fd26eddc"
            },
            "text/plain": "StatementMeta(cfraudsparkpool, 65, 2, Finished, Available, Finished)"
          },
          "metadata": {}
        }
      ],
      "metadata": {
        "microsoft": {}
      },
      "source": [
        "from pyspark.sql.types import *\r\n",
        "from pyspark.sql.functions import *\r\n",
        "from pyspark.sql import SparkSession\r\n",
        "from pyspark.sql.functions import col, count"
      ]
    },
    {
      "cell_type": "markdown",
      "metadata": {
        "nteract": {
          "transient": {
            "deleting": false
          }
        }
      },
      "source": [
        "##### Reading the merchant csv file from adls "
      ]
    },
    {
      "cell_type": "code",
      "execution_count": 20,
      "outputs": [
        {
          "output_type": "display_data",
          "data": {
            "application/vnd.livy.statement-meta+json": {
              "spark_pool": "cfraudsparkpool",
              "statement_id": 3,
              "statement_ids": [
                3
              ],
              "state": "finished",
              "livy_statement_state": "available",
              "spark_jobs": null,
              "session_id": "65",
              "normalized_state": "finished",
              "queued_time": "2025-05-12T08:59:32.8026776Z",
              "session_start_time": null,
              "execution_start_time": "2025-05-12T09:01:47.3525141Z",
              "execution_finish_time": "2025-05-12T09:01:58.411324Z",
              "parent_msg_id": "562648d7-697d-4e2f-900d-e39de6a122c1"
            },
            "text/plain": "StatementMeta(cfraudsparkpool, 65, 3, Finished, Available, Finished)"
          },
          "metadata": {}
        },
        {
          "output_type": "stream",
          "name": "stdout",
          "text": "+--------------------+--------------------+-------------+------------------+------------------+-------------+\n|           trans_num|            merchant|     category|         merch_lat|        merch_long|merch_zipcode|\n+--------------------+--------------------+-------------+------------------+------------------+-------------+\n|3faf354a73ecf0080...|fraud_Turner and ...| shopping_pos|         38.987219|        -93.776161|      64071.0|\n|01cc00d3f71b1ca08...|fraud_Zieme, Bode...|gas_transport|         35.643782|-90.04151999999999|      72370.0|\n|1672c93700e5ab7ce...|fraud_Swaniawski,...| shopping_pos|258.74842790650393|62.297257627331064|         null|\n|3dbf35e4eed21d9ef...|fraud_Gottlieb Group|    kids_pets|         49.765258|       -103.798569|         null|\n+--------------------+--------------------+-------------+------------------+------------------+-------------+\nonly showing top 4 rows\n\n"
        }
      ],
      "metadata": {},
      "source": [
        "merchant_df = spark.read.csv(\"abfss://raw-fraud-database@ccfrauddatalake.dfs.core.windows.net/MerchantLocationInfo.csv\", inferSchema=True , header=True)\r\n",
        "merchant_df.show(4)"
      ]
    },
    {
      "cell_type": "markdown",
      "metadata": {
        "nteract": {
          "transient": {
            "deleting": false
          }
        }
      },
      "source": [
        "##### Rounding the latitude and longitude columns\r\n",
        ""
      ]
    },
    {
      "cell_type": "code",
      "execution_count": 21,
      "outputs": [
        {
          "output_type": "display_data",
          "data": {
            "application/vnd.livy.statement-meta+json": {
              "spark_pool": "cfraudsparkpool",
              "statement_id": 4,
              "statement_ids": [
                4
              ],
              "state": "finished",
              "livy_statement_state": "available",
              "spark_jobs": null,
              "session_id": "65",
              "normalized_state": "finished",
              "queued_time": "2025-05-12T08:59:33.6480144Z",
              "session_start_time": null,
              "execution_start_time": "2025-05-12T09:01:58.4277097Z",
              "execution_finish_time": "2025-05-12T09:01:58.6808652Z",
              "parent_msg_id": "a4931368-fbbd-410f-9ca1-88d1ac968236"
            },
            "text/plain": "StatementMeta(cfraudsparkpool, 65, 4, Finished, Available, Finished)"
          },
          "metadata": {}
        }
      ],
      "metadata": {},
      "source": [
        "from pyspark.sql.functions import round, col\r\n",
        "\r\n",
        "merchant_df = merchant_df.withColumn(\"merch_lat\", round(col(\"merch_lat\"), 2)) \\\r\n",
        "       .withColumn(\"merch_long\", round(col(\"merch_long\"), 2))\r\n",
        ""
      ]
    },
    {
      "cell_type": "markdown",
      "metadata": {
        "nteract": {
          "transient": {
            "deleting": false
          }
        }
      },
      "source": [
        "##### Type Casting the zipcode column from float into int\r\n",
        ""
      ]
    },
    {
      "cell_type": "code",
      "execution_count": 22,
      "outputs": [
        {
          "output_type": "display_data",
          "data": {
            "application/vnd.livy.statement-meta+json": {
              "spark_pool": "cfraudsparkpool",
              "statement_id": 5,
              "statement_ids": [
                5
              ],
              "state": "finished",
              "livy_statement_state": "available",
              "spark_jobs": null,
              "session_id": "65",
              "normalized_state": "finished",
              "queued_time": "2025-05-12T08:59:34.0651657Z",
              "session_start_time": null,
              "execution_start_time": "2025-05-12T09:01:58.6967805Z",
              "execution_finish_time": "2025-05-12T09:01:58.9393767Z",
              "parent_msg_id": "6d57f5b8-a7f8-48d3-84a6-81ccce8d3016"
            },
            "text/plain": "StatementMeta(cfraudsparkpool, 65, 5, Finished, Available, Finished)"
          },
          "metadata": {}
        }
      ],
      "metadata": {},
      "source": [
        "merchant_df = merchant_df.withColumn('merch_zipcode' , col(\"merch_zipcode\").cast(IntegerType()))\r\n",
        ""
      ]
    },
    {
      "cell_type": "code",
      "execution_count": 23,
      "outputs": [
        {
          "output_type": "display_data",
          "data": {
            "application/vnd.livy.statement-meta+json": {
              "spark_pool": "cfraudsparkpool",
              "statement_id": 6,
              "statement_ids": [
                6
              ],
              "state": "finished",
              "livy_statement_state": "available",
              "spark_jobs": null,
              "session_id": "65",
              "normalized_state": "finished",
              "queued_time": "2025-05-12T08:59:34.2554974Z",
              "session_start_time": null,
              "execution_start_time": "2025-05-12T09:01:58.9537426Z",
              "execution_finish_time": "2025-05-12T09:02:28.4981727Z",
              "parent_msg_id": "4b696791-f5e4-493d-b2cc-448b8492eaca"
            },
            "text/plain": "StatementMeta(cfraudsparkpool, 65, 6, Finished, Available, Finished)"
          },
          "metadata": {}
        },
        {
          "output_type": "stream",
          "name": "stdout",
          "text": "+--------------------+--------------------+-------------+---------+----------+-------------+\n|           trans_num|            merchant|     category|merch_lat|merch_long|merch_zipcode|\n+--------------------+--------------------+-------------+---------+----------+-------------+\n|3faf354a73ecf0080...|fraud_Turner and ...| shopping_pos|    38.99|    -93.78|        64071|\n|01cc00d3f71b1ca08...|fraud_Zieme, Bode...|gas_transport|    35.64|    -90.04|        72370|\n+--------------------+--------------------+-------------+---------+----------+-------------+\nonly showing top 2 rows\n\n"
        }
      ],
      "metadata": {},
      "source": [
        "merchant_df.show(2)"
      ]
    },
    {
      "cell_type": "markdown",
      "metadata": {
        "nteract": {
          "transient": {
            "deleting": false
          }
        }
      },
      "source": [
        "##### Finding the Missing or Null value"
      ]
    },
    {
      "cell_type": "code",
      "execution_count": 24,
      "outputs": [
        {
          "output_type": "display_data",
          "data": {
            "application/vnd.livy.statement-meta+json": {
              "spark_pool": "cfraudsparkpool",
              "statement_id": 7,
              "statement_ids": [
                7
              ],
              "state": "finished",
              "livy_statement_state": "available",
              "spark_jobs": null,
              "session_id": "65",
              "normalized_state": "finished",
              "queued_time": "2025-05-12T08:59:34.622915Z",
              "session_start_time": null,
              "execution_start_time": "2025-05-12T09:02:28.5146976Z",
              "execution_finish_time": "2025-05-12T09:02:30.5442723Z",
              "parent_msg_id": "8ab85e0d-42d7-472a-81c8-ad705094ed03"
            },
            "text/plain": "StatementMeta(cfraudsparkpool, 65, 7, Finished, Available, Finished)"
          },
          "metadata": {}
        },
        {
          "output_type": "stream",
          "name": "stdout",
          "text": "+---------+--------+--------+---------+----------+-------------+\n|trans_num|merchant|category|merch_lat|merch_long|merch_zipcode|\n+---------+--------+--------+---------+----------+-------------+\n|        0|       0|   13031|        0|         0|       208083|\n+---------+--------+--------+---------+----------+-------------+\n\n"
        }
      ],
      "metadata": {},
      "source": [
        "\r\n",
        "from pyspark.sql.functions import col, sum\r\n",
        "\r\n",
        "null_counts = merchant_df.select([sum(col(c).isNull().cast(\"int\")).alias(c) for c in merchant_df.columns])\r\n",
        "null_counts.show()\r\n",
        ""
      ]
    },
    {
      "cell_type": "markdown",
      "metadata": {
        "nteract": {
          "transient": {
            "deleting": false
          }
        }
      },
      "source": [
        "##### Adding a new column called fraud_merchant"
      ]
    },
    {
      "cell_type": "code",
      "execution_count": 25,
      "outputs": [
        {
          "output_type": "display_data",
          "data": {
            "application/vnd.livy.statement-meta+json": {
              "spark_pool": "cfraudsparkpool",
              "statement_id": 8,
              "statement_ids": [
                8
              ],
              "state": "finished",
              "livy_statement_state": "available",
              "spark_jobs": null,
              "session_id": "65",
              "normalized_state": "finished",
              "queued_time": "2025-05-12T08:59:35.5043528Z",
              "session_start_time": null,
              "execution_start_time": "2025-05-12T09:02:30.5587482Z",
              "execution_finish_time": "2025-05-12T09:02:30.8562191Z",
              "parent_msg_id": "e8736f0a-0d18-4a5b-9e0e-dd483451850e"
            },
            "text/plain": "StatementMeta(cfraudsparkpool, 65, 8, Finished, Available, Finished)"
          },
          "metadata": {}
        }
      ],
      "metadata": {},
      "source": [
        "from pyspark.sql.functions import regexp_extract\r\n",
        "\r\n",
        "merchant_df = merchant_df.withColumn(\"fraud_merchant\", regexp_extract(col(\"merchant\"), r\"(fraud_[A-Za-z]+)\", 1))\r\n",
        ""
      ]
    },
    {
      "cell_type": "markdown",
      "metadata": {
        "nteract": {
          "transient": {
            "deleting": false
          }
        }
      },
      "source": [
        "##### Dropping the previous merchant column"
      ]
    },
    {
      "cell_type": "code",
      "execution_count": 26,
      "outputs": [
        {
          "output_type": "display_data",
          "data": {
            "application/vnd.livy.statement-meta+json": {
              "spark_pool": "cfraudsparkpool",
              "statement_id": 9,
              "statement_ids": [
                9
              ],
              "state": "finished",
              "livy_statement_state": "available",
              "spark_jobs": null,
              "session_id": "65",
              "normalized_state": "finished",
              "queued_time": "2025-05-12T08:59:36.2792258Z",
              "session_start_time": null,
              "execution_start_time": "2025-05-12T09:02:30.8710664Z",
              "execution_finish_time": "2025-05-12T09:02:31.1378599Z",
              "parent_msg_id": "7afde71e-37a5-4530-9d15-5f5dfb833e6e"
            },
            "text/plain": "StatementMeta(cfraudsparkpool, 65, 9, Finished, Available, Finished)"
          },
          "metadata": {}
        }
      ],
      "metadata": {},
      "source": [
        "merchant_df = merchant_df.drop(\"merchant\")"
      ]
    },
    {
      "cell_type": "code",
      "execution_count": 27,
      "outputs": [
        {
          "output_type": "display_data",
          "data": {
            "application/vnd.livy.statement-meta+json": {
              "spark_pool": "cfraudsparkpool",
              "statement_id": 10,
              "statement_ids": [
                10
              ],
              "state": "finished",
              "livy_statement_state": "available",
              "spark_jobs": null,
              "session_id": "65",
              "normalized_state": "finished",
              "queued_time": "2025-05-12T08:59:36.661637Z",
              "session_start_time": null,
              "execution_start_time": "2025-05-12T09:02:31.1527839Z",
              "execution_finish_time": "2025-05-12T09:02:31.8107762Z",
              "parent_msg_id": "f7bb81a9-9435-4773-8746-a306a3c3b6f2"
            },
            "text/plain": "StatementMeta(cfraudsparkpool, 65, 10, Finished, Available, Finished)"
          },
          "metadata": {}
        },
        {
          "output_type": "stream",
          "name": "stdout",
          "text": "+--------------------+-------------+---------+----------+-------------+--------------+\n|           trans_num|     category|merch_lat|merch_long|merch_zipcode|fraud_merchant|\n+--------------------+-------------+---------+----------+-------------+--------------+\n|3faf354a73ecf0080...| shopping_pos|    38.99|    -93.78|        64071|  fraud_Turner|\n|01cc00d3f71b1ca08...|gas_transport|    35.64|    -90.04|        72370|   fraud_Zieme|\n+--------------------+-------------+---------+----------+-------------+--------------+\nonly showing top 2 rows\n\n"
        }
      ],
      "metadata": {},
      "source": [
        "merchant_df.show(2)"
      ]
    },
    {
      "cell_type": "markdown",
      "metadata": {
        "nteract": {
          "transient": {
            "deleting": false
          }
        }
      },
      "source": [
        "##### Fill the category column with the highest occuring category value"
      ]
    },
    {
      "cell_type": "code",
      "execution_count": 28,
      "outputs": [
        {
          "output_type": "display_data",
          "data": {
            "application/vnd.livy.statement-meta+json": {
              "spark_pool": "cfraudsparkpool",
              "statement_id": 11,
              "statement_ids": [
                11
              ],
              "state": "finished",
              "livy_statement_state": "available",
              "spark_jobs": null,
              "session_id": "65",
              "normalized_state": "finished",
              "queued_time": "2025-05-12T08:59:37.5122281Z",
              "session_start_time": null,
              "execution_start_time": "2025-05-12T09:02:31.8251958Z",
              "execution_finish_time": "2025-05-12T09:02:33.8324342Z",
              "parent_msg_id": "f71b81ae-6d63-48a8-8cf5-6abca53a7c99"
            },
            "text/plain": "StatementMeta(cfraudsparkpool, 65, 11, Finished, Available, Finished)"
          },
          "metadata": {}
        }
      ],
      "metadata": {},
      "source": [
        "from pyspark.sql.functions import col, count, when, lit\r\n",
        "\r\n",
        "most = merchant_df.groupBy(\"category\").count().orderBy(col(\"count\").desc()).first()[\"category\"]\r\n",
        "\r\n",
        "\r\n",
        "merchant_df = merchant_df.withColumn(\"category\", when(col(\"category\").isNull(), most).otherwise(col(\"category\")))\r\n",
        ""
      ]
    },
    {
      "cell_type": "code",
      "execution_count": 29,
      "outputs": [
        {
          "output_type": "display_data",
          "data": {
            "application/vnd.livy.statement-meta+json": {
              "spark_pool": "cfraudsparkpool",
              "statement_id": 12,
              "statement_ids": [
                12
              ],
              "state": "finished",
              "livy_statement_state": "available",
              "spark_jobs": null,
              "session_id": "65",
              "normalized_state": "finished",
              "queued_time": "2025-05-12T08:59:38.0770358Z",
              "session_start_time": null,
              "execution_start_time": "2025-05-12T09:02:33.8552275Z",
              "execution_finish_time": "2025-05-12T09:02:34.5219797Z",
              "parent_msg_id": "614ce762-9fb4-4bff-a089-a6552dd5a18c"
            },
            "text/plain": "StatementMeta(cfraudsparkpool, 65, 12, Finished, Available, Finished)"
          },
          "metadata": {}
        },
        {
          "output_type": "execute_result",
          "data": {
            "text/plain": "1303158"
          },
          "execution_count": 25,
          "metadata": {}
        }
      ],
      "metadata": {},
      "source": [
        "merchant_df.count()"
      ]
    },
    {
      "cell_type": "markdown",
      "metadata": {
        "nteract": {
          "transient": {
            "deleting": false
          }
        }
      },
      "source": [
        "##### Drop the null values "
      ]
    },
    {
      "cell_type": "code",
      "execution_count": 30,
      "outputs": [
        {
          "output_type": "display_data",
          "data": {
            "application/vnd.livy.statement-meta+json": {
              "spark_pool": "cfraudsparkpool",
              "statement_id": 13,
              "statement_ids": [
                13
              ],
              "state": "finished",
              "livy_statement_state": "available",
              "spark_jobs": null,
              "session_id": "65",
              "normalized_state": "finished",
              "queued_time": "2025-05-12T08:59:39.1682675Z",
              "session_start_time": null,
              "execution_start_time": "2025-05-12T09:02:34.5352959Z",
              "execution_finish_time": "2025-05-12T09:02:34.7882914Z",
              "parent_msg_id": "5e528d03-ea46-4b9c-ac27-1a3e996333ba"
            },
            "text/plain": "StatementMeta(cfraudsparkpool, 65, 13, Finished, Available, Finished)"
          },
          "metadata": {}
        }
      ],
      "metadata": {},
      "source": [
        "merchant_df = merchant_df.filter(col(\"merch_zipcode\").isNotNull())\r\n",
        ""
      ]
    },
    {
      "cell_type": "code",
      "execution_count": 31,
      "outputs": [
        {
          "output_type": "display_data",
          "data": {
            "application/vnd.livy.statement-meta+json": {
              "spark_pool": "cfraudsparkpool",
              "statement_id": 14,
              "statement_ids": [
                14
              ],
              "state": "finished",
              "livy_statement_state": "available",
              "spark_jobs": null,
              "session_id": "65",
              "normalized_state": "finished",
              "queued_time": "2025-05-12T08:59:39.7940528Z",
              "session_start_time": null,
              "execution_start_time": "2025-05-12T09:02:34.8027776Z",
              "execution_finish_time": "2025-05-12T09:02:35.0793868Z",
              "parent_msg_id": "ef8b6a64-b567-4b1d-9285-def21b57b91e"
            },
            "text/plain": "StatementMeta(cfraudsparkpool, 65, 14, Finished, Available, Finished)"
          },
          "metadata": {}
        },
        {
          "output_type": "execute_result",
          "data": {
            "text/plain": "<bound method DataFrame.collect of DataFrame[trans_num: string, category: string, merch_lat: double, merch_long: double, merch_zipcode: int, fraud_merchant: string]>"
          },
          "execution_count": 29,
          "metadata": {}
        }
      ],
      "metadata": {},
      "source": [
        "merchant_df.collect"
      ]
    },
    {
      "cell_type": "code",
      "execution_count": 32,
      "outputs": [
        {
          "output_type": "display_data",
          "data": {
            "application/vnd.livy.statement-meta+json": {
              "spark_pool": "cfraudsparkpool",
              "statement_id": 15,
              "statement_ids": [
                15
              ],
              "state": "finished",
              "livy_statement_state": "available",
              "spark_jobs": null,
              "session_id": "65",
              "normalized_state": "finished",
              "queued_time": "2025-05-12T08:59:40.5707128Z",
              "session_start_time": null,
              "execution_start_time": "2025-05-12T09:02:35.0943036Z",
              "execution_finish_time": "2025-05-12T09:02:35.7575092Z",
              "parent_msg_id": "8e5946e4-8681-4b08-bd78-22ac78a6a4d8"
            },
            "text/plain": "StatementMeta(cfraudsparkpool, 65, 15, Finished, Available, Finished)"
          },
          "metadata": {}
        },
        {
          "output_type": "stream",
          "name": "stdout",
          "text": "+--------------------+-------------+---------+----------+-------------+--------------+\n|           trans_num|     category|merch_lat|merch_long|merch_zipcode|fraud_merchant|\n+--------------------+-------------+---------+----------+-------------+--------------+\n|3faf354a73ecf0080...| shopping_pos|    38.99|    -93.78|        64071|  fraud_Turner|\n|01cc00d3f71b1ca08...|gas_transport|    35.64|    -90.04|        72370|   fraud_Zieme|\n+--------------------+-------------+---------+----------+-------------+--------------+\nonly showing top 2 rows\n\n"
        }
      ],
      "metadata": {},
      "source": [
        "merchant_df.show(2)"
      ]
    },
    {
      "cell_type": "code",
      "execution_count": 34,
      "outputs": [
        {
          "output_type": "display_data",
          "data": {
            "application/vnd.livy.statement-meta+json": {
              "spark_pool": "cfraudsparkpool",
              "statement_id": 17,
              "statement_ids": [
                17
              ],
              "state": "finished",
              "livy_statement_state": "available",
              "spark_jobs": null,
              "session_id": "65",
              "normalized_state": "finished",
              "queued_time": "2025-05-12T09:03:47.033027Z",
              "session_start_time": null,
              "execution_start_time": "2025-05-12T09:03:47.0356658Z",
              "execution_finish_time": "2025-05-12T09:03:48.2939111Z",
              "parent_msg_id": "11915a93-8dc5-488d-bc5f-c6bf0f0a4f44"
            },
            "text/plain": "StatementMeta(cfraudsparkpool, 65, 17, Finished, Available, Finished)"
          },
          "metadata": {}
        },
        {
          "output_type": "stream",
          "name": "stdout",
          "text": "No Of  column 6\nMerchant Schema -----------: StructType([StructField('trans_num', StringType(), True), StructField('category', StringType(), True), StructField('merch_lat', DoubleType(), True), StructField('merch_long', DoubleType(), True), StructField('merch_zipcode', IntegerType(), True), StructField('fraud_merchant', StringType(), True)])\nNo of row in  1095075\n"
        }
      ],
      "metadata": {},
      "source": [
        "print(\"No Of  column\",len(merchant_df.columns))\r\n",
        "print(\"Merchant Schema -----------:\",merchant_df.schema)\r\n",
        "\r\n",
        "print(\"No of row in \" , merchant_df.count())\r\n",
        ""
      ]
    },
    {
      "cell_type": "markdown",
      "metadata": {
        "nteract": {
          "transient": {
            "deleting": false
          }
        }
      },
      "source": [
        "##### Saving the cleaned data into adls "
      ]
    },
    {
      "cell_type": "code",
      "execution_count": null,
      "outputs": [],
      "metadata": {},
      "source": [
        ""
      ]
    },
    {
      "cell_type": "code",
      "execution_count": 16,
      "outputs": [
        {
          "output_type": "display_data",
          "data": {
            "application/vnd.livy.statement-meta+json": {
              "spark_pool": "cfraudsparkpool",
              "statement_id": 17,
              "statement_ids": [
                17
              ],
              "state": "finished",
              "livy_statement_state": "available",
              "spark_jobs": null,
              "session_id": "55",
              "normalized_state": "finished",
              "queued_time": "2025-05-12T06:45:09.4877422Z",
              "session_start_time": null,
              "execution_start_time": "2025-05-12T06:47:40.847422Z",
              "execution_finish_time": "2025-05-12T06:47:44.9862987Z",
              "parent_msg_id": "757a0959-affc-4e12-a1d2-aa7da5db49ed"
            },
            "text/plain": "StatementMeta(cfraudsparkpool, 55, 17, Finished, Available, Finished)"
          },
          "metadata": {}
        }
      ],
      "metadata": {},
      "source": [
        "\r\n",
        "base_path = \"abfss://clean-data-creditcard@ccfrauddatalake.dfs.core.windows.net/cleansed_files_csv/\"\r\n",
        "merchant_df.write.mode(\"overwrite\").csv(base_path + \"merchant\")\r\n",
        ""
      ]
    },
    {
      "cell_type": "code",
      "execution_count": 17,
      "outputs": [
        {
          "output_type": "display_data",
          "data": {
            "application/vnd.livy.statement-meta+json": {
              "spark_pool": "cfraudsparkpool",
              "statement_id": 18,
              "statement_ids": [
                18
              ],
              "state": "finished",
              "livy_statement_state": "available",
              "spark_jobs": null,
              "session_id": "55",
              "normalized_state": "finished",
              "queued_time": "2025-05-12T06:45:09.9987351Z",
              "session_start_time": null,
              "execution_start_time": "2025-05-12T06:47:45.0017917Z",
              "execution_finish_time": "2025-05-12T06:47:50.6190349Z",
              "parent_msg_id": "b7e052a1-7925-4ecb-98a4-9f15e245b757"
            },
            "text/plain": "StatementMeta(cfraudsparkpool, 55, 18, Finished, Available, Finished)"
          },
          "metadata": {}
        }
      ],
      "metadata": {},
      "source": [
        "\r\n",
        "base_path = \"abfss://clean-data-creditcard@ccfrauddatalake.dfs.core.windows.net/cleansed_files/\"\r\n",
        "\r\n",
        "merchant_df.write.mode(\"overwrite\").parquet(base_path + \"merchant\")\r\n",
        ""
      ]
    },
    {
      "cell_type": "code",
      "execution_count": null,
      "outputs": [],
      "metadata": {},
      "source": [
        ""
      ]
    }
  ],
  "metadata": {
    "description": null,
    "save_output": true,
    "kernelspec": {
      "name": "synapse_pyspark",
      "display_name": "Synapse PySpark"
    },
    "language_info": {
      "name": "python"
    },
    "synapse_widget": {
      "version": "0.1",
      "state": {}
    }
  }
}