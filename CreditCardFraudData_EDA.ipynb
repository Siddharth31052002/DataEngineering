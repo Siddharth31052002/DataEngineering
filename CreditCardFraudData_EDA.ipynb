{
  "nbformat": 4,
  "nbformat_minor": 2,
  "cells": [
    {
      "cell_type": "markdown",
      "metadata": {
        "nteract": {
          "transient": {
            "deleting": false
          }
        }
      },
      "source": [
        "### CLEANED_JOINED_TRANSACTION/CUSTOMERS/MERCHANT"
      ]
    },
    {
      "cell_type": "code",
      "execution_count": 24,
      "outputs": [
        {
          "output_type": "display_data",
          "data": {
            "application/vnd.livy.statement-meta+json": {
              "spark_pool": "cfraudsparkpool",
              "statement_id": 2,
              "statement_ids": [
                2
              ],
              "state": "finished",
              "livy_statement_state": "available",
              "spark_jobs": null,
              "session_id": "69",
              "normalized_state": "finished",
              "queued_time": "2025-05-12T09:11:15.1521984Z",
              "session_start_time": "2025-05-12T09:11:15.1547587Z",
              "execution_start_time": "2025-05-12T09:11:59.4586337Z",
              "execution_finish_time": "2025-05-12T09:11:59.7321346Z",
              "parent_msg_id": "d475b470-5ab3-4f78-b00e-bce25bcb46b5"
            },
            "text/plain": "StatementMeta(cfraudsparkpool, 69, 2, Finished, Available, Finished)"
          },
          "metadata": {}
        }
      ],
      "metadata": {},
      "source": [
        "from pyspark.sql.types import *\n",
        "from pyspark.sql.functions import *\n",
        "from pyspark.sql import SparkSession\n",
        "from pyspark.sql.functions import col, count\n",
        "from pyspark.sql.types import StructType, StructField, StringType, DoubleType, LongType, IntegerType, TimestampType\n",
        ""
      ]
    },
    {
      "cell_type": "markdown",
      "metadata": {
        "nteract": {
          "transient": {
            "deleting": false
          }
        }
      },
      "source": [
        "##### User Defined Schema For Customer"
      ]
    },
    {
      "cell_type": "code",
      "execution_count": 25,
      "outputs": [
        {
          "output_type": "display_data",
          "data": {
            "application/vnd.livy.statement-meta+json": {
              "spark_pool": "cfraudsparkpool",
              "statement_id": 3,
              "statement_ids": [
                3
              ],
              "state": "finished",
              "livy_statement_state": "available",
              "spark_jobs": null,
              "session_id": "69",
              "normalized_state": "finished",
              "queued_time": "2025-05-12T09:13:50.3154319Z",
              "session_start_time": null,
              "execution_start_time": "2025-05-12T09:13:50.3178613Z",
              "execution_finish_time": "2025-05-12T09:13:51.5363055Z",
              "parent_msg_id": "04ebee7a-a043-43e3-ac17-d9e6d76e9bbf"
            },
            "text/plain": "StatementMeta(cfraudsparkpool, 69, 3, Finished, Available, Finished)"
          },
          "metadata": {}
        }
      ],
      "metadata": {},
      "source": [
        "\n",
        "customer_schema = StructType([\n",
        "    StructField(\"trans_num\", StringType(), True),\n",
        "    StructField(\"cc_num\", StringType(), True),\n",
        "    StructField(\"gender\", StringType(), True),\n",
        "    StructField(\"dob\", DateType(), True),\n",
        "    StructField(\"job\", StringType(), True),\n",
        "    StructField(\"street\", StringType(), True),\n",
        "    StructField(\"city\", StringType(), True),\n",
        "    StructField(\"state\", StringType(), True),\n",
        "    StructField(\"zip\", IntegerType(), True),\n",
        "    StructField(\"lat\", DoubleType(), True),\n",
        "    StructField(\"long\", DoubleType(), True),\n",
        "    StructField(\"city_pop\", IntegerType(), True),\n",
        "    StructField(\"firstName\", StringType(), True),\n",
        "    StructField(\"LastName\", StringType(), True),\n",
        "    StructField(\"age\", IntegerType(), True)\n",
        "])\n",
        "cus_df = spark.read.csv(\n",
        "    \"abfss://clean-data-creditcard@ccfrauddatalake.dfs.core.windows.net/cleansed_files_csv/customers/\",\n",
        "    header=True,\n",
        "    schema=customer_schema\n",
        ")\n",
        ""
      ]
    },
    {
      "cell_type": "markdown",
      "metadata": {
        "nteract": {
          "transient": {
            "deleting": false
          }
        }
      },
      "source": [
        "##### User Defined Schema For Merchant"
      ]
    },
    {
      "cell_type": "code",
      "execution_count": 26,
      "outputs": [
        {
          "output_type": "display_data",
          "data": {
            "application/vnd.livy.statement-meta+json": {
              "spark_pool": "cfraudsparkpool",
              "statement_id": 4,
              "statement_ids": [
                4
              ],
              "state": "finished",
              "livy_statement_state": "available",
              "spark_jobs": null,
              "session_id": "69",
              "normalized_state": "finished",
              "queued_time": "2025-05-12T09:13:51.175004Z",
              "session_start_time": null,
              "execution_start_time": "2025-05-12T09:13:51.5509082Z",
              "execution_finish_time": "2025-05-12T09:13:51.8104991Z",
              "parent_msg_id": "7afd565f-e5fd-42a7-a8bb-f398c87c47a3"
            },
            "text/plain": "StatementMeta(cfraudsparkpool, 69, 4, Finished, Available, Finished)"
          },
          "metadata": {}
        }
      ],
      "metadata": {},
      "source": [
        "\n",
        "merchant_schema = StructType([\n",
        "    StructField(\"trans_num\", StringType(), True),\n",
        "    StructField(\"category\", StringType(), True),\n",
        "    StructField(\"merch_lat\", DoubleType(), True),\n",
        "    StructField(\"merch_long\", DoubleType(), True),\n",
        "    StructField(\"merch_zipcode\", IntegerType(), True),\n",
        "    StructField(\"merchant_clean\", StringType(), True)\n",
        "])\n",
        "merch_df = spark.read.csv(\n",
        "    \"abfss://clean-data-creditcard@ccfrauddatalake.dfs.core.windows.net/cleansed_files_csv/merchant/\",\n",
        "    header=True,\n",
        "    schema=merchant_schema\n",
        ")\n",
        ""
      ]
    },
    {
      "cell_type": "markdown",
      "metadata": {
        "nteract": {
          "transient": {
            "deleting": false
          }
        }
      },
      "source": [
        "##### User Defined Schema for Transaction"
      ]
    },
    {
      "cell_type": "code",
      "execution_count": 27,
      "outputs": [
        {
          "output_type": "display_data",
          "data": {
            "application/vnd.livy.statement-meta+json": {
              "spark_pool": "cfraudsparkpool",
              "statement_id": 5,
              "statement_ids": [
                5
              ],
              "state": "finished",
              "livy_statement_state": "available",
              "spark_jobs": null,
              "session_id": "69",
              "normalized_state": "finished",
              "queued_time": "2025-05-12T09:13:52.1918617Z",
              "session_start_time": null,
              "execution_start_time": "2025-05-12T09:13:52.1942044Z",
              "execution_finish_time": "2025-05-12T09:13:52.4580585Z",
              "parent_msg_id": "b4c3fd11-5d0a-43fd-9ff0-9b43dfcabd14"
            },
            "text/plain": "StatementMeta(cfraudsparkpool, 69, 5, Finished, Available, Finished)"
          },
          "metadata": {}
        }
      ],
      "metadata": {},
      "source": [
        "\n",
        "\n",
        "schema = StructType([\n",
        "    StructField(\"trans_num\", StringType(), True),\n",
        "    StructField(\"trans_date_trans_time\", TimestampType(), True),  # enforce timestamp\n",
        "    StructField(\"cc_num\", StringType(), True),\n",
        "    StructField(\"amt\", DoubleType(), True),\n",
        "    StructField(\"unix_time\", LongType(), True),\n",
        "    StructField(\"is_fraud\", IntegerType(), True),\n",
        "    StructField(\"amt_corrected\", DoubleType(), True)\n",
        "])\n",
        "\n",
        "tran_df = spark.read.csv(\n",
        "    \"abfss://clean-data-creditcard@ccfrauddatalake.dfs.core.windows.net/cleansed_files_csv/Transaction/\",\n",
        "    header=True,\n",
        "    schema=schema\n",
        ")"
      ]
    },
    {
      "cell_type": "markdown",
      "metadata": {
        "nteract": {
          "transient": {
            "deleting": false
          }
        }
      },
      "source": [
        "##### Joining merchant with customer "
      ]
    },
    {
      "cell_type": "code",
      "execution_count": 28,
      "outputs": [
        {
          "output_type": "display_data",
          "data": {
            "application/vnd.livy.statement-meta+json": {
              "spark_pool": "cfraudsparkpool",
              "statement_id": 6,
              "statement_ids": [
                6
              ],
              "state": "finished",
              "livy_statement_state": "available",
              "spark_jobs": null,
              "session_id": "69",
              "normalized_state": "finished",
              "queued_time": "2025-05-12T09:13:53.2974063Z",
              "session_start_time": null,
              "execution_start_time": "2025-05-12T09:13:53.3004396Z",
              "execution_finish_time": "2025-05-12T09:13:53.5881423Z",
              "parent_msg_id": "6c82883c-ff48-4149-ba10-1c49094fdeb2"
            },
            "text/plain": "StatementMeta(cfraudsparkpool, 69, 6, Finished, Available, Finished)"
          },
          "metadata": {}
        }
      ],
      "metadata": {},
      "source": [
        "cust_merch_df = cus_df.join(merch_df , on=\"trans_num\" , how= \"inner\")"
      ]
    },
    {
      "cell_type": "code",
      "execution_count": 29,
      "outputs": [
        {
          "output_type": "display_data",
          "data": {
            "application/vnd.livy.statement-meta+json": {
              "spark_pool": "cfraudsparkpool",
              "statement_id": 7,
              "statement_ids": [
                7
              ],
              "state": "finished",
              "livy_statement_state": "available",
              "spark_jobs": null,
              "session_id": "69",
              "normalized_state": "finished",
              "queued_time": "2025-05-12T09:13:53.6424631Z",
              "session_start_time": null,
              "execution_start_time": "2025-05-12T09:13:53.6447979Z",
              "execution_finish_time": "2025-05-12T09:14:02.5190562Z",
              "parent_msg_id": "3542520a-26a3-4d3b-97ff-aeb6c04f29b3"
            },
            "text/plain": "StatementMeta(cfraudsparkpool, 69, 7, Finished, Available, Finished)"
          },
          "metadata": {}
        },
        {
          "output_type": "stream",
          "name": "stdout",
          "text": "+--------------------+----------------+------+----------+--------------------+-----------------+---------+-----+-----+-------+---------+--------+---------+--------+---+-------------+---------+----------+-------------+--------------+\n|           trans_num|          cc_num|gender|       dob|                 job|           street|     city|state|  zip|    lat|     long|city_pop|firstName|LastName|age|     category|merch_lat|merch_long|merch_zipcode|merchant_clean|\n+--------------------+----------------+------+----------+--------------------+-----------------+---------+-----+-----+-------+---------+--------+---------+--------+---+-------------+---------+----------+-------------+--------------+\n|000088fe170f044d2...|6011679934075347|     F|1974-04-16|    Public librarian|  5517 Stacy Land|     Jelm|   WY|82063|41.0539|-106.0763|     100| Jennifer|Gonzalez| 51|  food_dining|    40.07|    -105.1|        80516|  fraud_Deckow|\n|0000dfd04a508bc2b...|4908846471916297|     F|1992-07-24|Radiographer, the...|03030 White Lakes|Grandview|   TX|76050|32.2779| -97.2351|    5875|   Lauren|  Torres| 32|personal_care|    33.27|    -96.48|        75454|fraud_Gottlieb|\n+--------------------+----------------+------+----------+--------------------+-----------------+---------+-----+-----+-------+---------+--------+---------+--------+---+-------------+---------+----------+-------------+--------------+\nonly showing top 2 rows\n\n"
        }
      ],
      "metadata": {},
      "source": [
        "cust_merch_df.show(2)"
      ]
    },
    {
      "cell_type": "code",
      "execution_count": 30,
      "outputs": [
        {
          "output_type": "display_data",
          "data": {
            "application/vnd.livy.statement-meta+json": {
              "spark_pool": "cfraudsparkpool",
              "statement_id": 8,
              "statement_ids": [
                8
              ],
              "state": "finished",
              "livy_statement_state": "available",
              "spark_jobs": null,
              "session_id": "69",
              "normalized_state": "finished",
              "queued_time": "2025-05-12T09:13:54.0969445Z",
              "session_start_time": null,
              "execution_start_time": "2025-05-12T09:14:02.535832Z",
              "execution_finish_time": "2025-05-12T09:14:06.6841114Z",
              "parent_msg_id": "dd41dc59-27ff-4a48-a9fb-ba9c39520112"
            },
            "text/plain": "StatementMeta(cfraudsparkpool, 69, 8, Finished, Available, Finished)"
          },
          "metadata": {}
        },
        {
          "output_type": "execute_result",
          "data": {
            "text/plain": "1100555"
          },
          "execution_count": 17,
          "metadata": {}
        }
      ],
      "metadata": {},
      "source": [
        "cust_merch_df.count()"
      ]
    },
    {
      "cell_type": "markdown",
      "metadata": {
        "nteract": {
          "transient": {
            "deleting": false
          }
        }
      },
      "source": [
        "##### Removing the duplicate  column credit card number mentioned as cc_num"
      ]
    },
    {
      "cell_type": "code",
      "execution_count": 31,
      "outputs": [
        {
          "output_type": "display_data",
          "data": {
            "application/vnd.livy.statement-meta+json": {
              "spark_pool": "cfraudsparkpool",
              "statement_id": 9,
              "statement_ids": [
                9
              ],
              "state": "finished",
              "livy_statement_state": "available",
              "spark_jobs": null,
              "session_id": "69",
              "normalized_state": "finished",
              "queued_time": "2025-05-12T09:13:55.0282686Z",
              "session_start_time": null,
              "execution_start_time": "2025-05-12T09:14:06.6988206Z",
              "execution_finish_time": "2025-05-12T09:14:06.9559152Z",
              "parent_msg_id": "ef5c9f1b-5468-4f65-b051-01ba7a8980c7"
            },
            "text/plain": "StatementMeta(cfraudsparkpool, 69, 9, Finished, Available, Finished)"
          },
          "metadata": {}
        }
      ],
      "metadata": {},
      "source": [
        "tran_df = tran_df.drop(\"cc_num\")"
      ]
    },
    {
      "cell_type": "markdown",
      "metadata": {
        "nteract": {
          "transient": {
            "deleting": false
          }
        }
      },
      "source": [
        "##### Joined previously obtained dataframe with transactions on trans_num"
      ]
    },
    {
      "cell_type": "code",
      "execution_count": 32,
      "outputs": [
        {
          "output_type": "display_data",
          "data": {
            "application/vnd.livy.statement-meta+json": {
              "spark_pool": "cfraudsparkpool",
              "statement_id": 10,
              "statement_ids": [
                10
              ],
              "state": "finished",
              "livy_statement_state": "available",
              "spark_jobs": null,
              "session_id": "69",
              "normalized_state": "finished",
              "queued_time": "2025-05-12T09:13:55.8515781Z",
              "session_start_time": null,
              "execution_start_time": "2025-05-12T09:14:06.9702952Z",
              "execution_finish_time": "2025-05-12T09:14:07.2476549Z",
              "parent_msg_id": "db323016-4776-4ea1-88c1-c014c6195ec3"
            },
            "text/plain": "StatementMeta(cfraudsparkpool, 69, 10, Finished, Available, Finished)"
          },
          "metadata": {}
        }
      ],
      "metadata": {},
      "source": [
        "cus_mer_tran_df = cust_merch_df.join(tran_df , on=\"trans_num\" , how='inner')"
      ]
    },
    {
      "cell_type": "markdown",
      "metadata": {
        "nteract": {
          "transient": {
            "deleting": false
          }
        }
      },
      "source": [
        "##### Count of records after joining "
      ]
    },
    {
      "cell_type": "code",
      "execution_count": 33,
      "outputs": [
        {
          "output_type": "display_data",
          "data": {
            "application/vnd.livy.statement-meta+json": {
              "spark_pool": "cfraudsparkpool",
              "statement_id": 11,
              "statement_ids": [
                11
              ],
              "state": "finished",
              "livy_statement_state": "available",
              "spark_jobs": null,
              "session_id": "69",
              "normalized_state": "finished",
              "queued_time": "2025-05-12T09:13:56.8152574Z",
              "session_start_time": null,
              "execution_start_time": "2025-05-12T09:14:07.2622755Z",
              "execution_finish_time": "2025-05-12T09:14:11.3785963Z",
              "parent_msg_id": "50e45c1e-079e-4323-b7a2-30d5b39c4789"
            },
            "text/plain": "StatementMeta(cfraudsparkpool, 69, 11, Finished, Available, Finished)"
          },
          "metadata": {}
        },
        {
          "output_type": "stream",
          "name": "stdout",
          "text": "Number of Row inside the Data: 1100572\n"
        }
      ],
      "metadata": {},
      "source": [
        "print(\"Number of Row inside the Data:\",cus_mer_tran_df.count())"
      ]
    },
    {
      "cell_type": "markdown",
      "metadata": {
        "nteract": {
          "transient": {
            "deleting": false
          }
        }
      },
      "source": [
        "##### Schema showdown"
      ]
    },
    {
      "cell_type": "code",
      "execution_count": 34,
      "outputs": [
        {
          "output_type": "display_data",
          "data": {
            "application/vnd.livy.statement-meta+json": {
              "spark_pool": "cfraudsparkpool",
              "statement_id": 12,
              "statement_ids": [
                12
              ],
              "state": "finished",
              "livy_statement_state": "available",
              "spark_jobs": null,
              "session_id": "69",
              "normalized_state": "finished",
              "queued_time": "2025-05-12T09:13:57.4464553Z",
              "session_start_time": null,
              "execution_start_time": "2025-05-12T09:14:11.3935274Z",
              "execution_finish_time": "2025-05-12T09:14:11.6671841Z",
              "parent_msg_id": "09df405a-aad9-45ea-8884-e191257eb1d0"
            },
            "text/plain": "StatementMeta(cfraudsparkpool, 69, 12, Finished, Available, Finished)"
          },
          "metadata": {}
        },
        {
          "output_type": "execute_result",
          "data": {
            "text/plain": "StructType([StructField('trans_num', StringType(), True), StructField('cc_num', StringType(), True), StructField('gender', StringType(), True), StructField('dob', DateType(), True), StructField('job', StringType(), True), StructField('street', StringType(), True), StructField('city', StringType(), True), StructField('state', StringType(), True), StructField('zip', IntegerType(), True), StructField('lat', DoubleType(), True), StructField('long', DoubleType(), True), StructField('city_pop', IntegerType(), True), StructField('firstName', StringType(), True), StructField('LastName', StringType(), True), StructField('age', IntegerType(), True), StructField('category', StringType(), True), StructField('merch_lat', DoubleType(), True), StructField('merch_long', DoubleType(), True), StructField('merch_zipcode', IntegerType(), True), StructField('merchant_clean', StringType(), True), StructField('trans_date_trans_time', TimestampType(), True), StructField('amt', DoubleType(), True), StructField('unix_time', LongType(), True), StructField('is_fraud', IntegerType(), True), StructField('amt_corrected', DoubleType(), True)])"
          },
          "execution_count": 25,
          "metadata": {}
        }
      ],
      "metadata": {},
      "source": [
        "cus_mer_tran_df.schema\n",
        ""
      ]
    },
    {
      "cell_type": "markdown",
      "metadata": {
        "nteract": {
          "transient": {
            "deleting": false
          }
        }
      },
      "source": [
        "##### Count of total number of columns"
      ]
    },
    {
      "cell_type": "code",
      "execution_count": 35,
      "outputs": [
        {
          "output_type": "display_data",
          "data": {
            "application/vnd.livy.statement-meta+json": {
              "spark_pool": "cfraudsparkpool",
              "statement_id": 13,
              "statement_ids": [
                13
              ],
              "state": "finished",
              "livy_statement_state": "available",
              "spark_jobs": null,
              "session_id": "69",
              "normalized_state": "finished",
              "queued_time": "2025-05-12T09:13:58.1187627Z",
              "session_start_time": null,
              "execution_start_time": "2025-05-12T09:14:11.6838255Z",
              "execution_finish_time": "2025-05-12T09:14:11.9392145Z",
              "parent_msg_id": "49a33c5b-c13f-437a-8250-e924e1560765"
            },
            "text/plain": "StatementMeta(cfraudsparkpool, 69, 13, Finished, Available, Finished)"
          },
          "metadata": {}
        },
        {
          "output_type": "stream",
          "name": "stdout",
          "text": "This is Final of Column: 25\n"
        }
      ],
      "metadata": {},
      "source": [
        "# cus_mer_tran_df = cus_mer_tran_df.drop(\"cc_num\")\n",
        "print(\"This is Final of Column:\",len(cus_mer_tran_df.schema))\n",
        ""
      ]
    },
    {
      "cell_type": "markdown",
      "metadata": {
        "nteract": {
          "transient": {
            "deleting": false
          }
        }
      },
      "source": [
        "##### Masking the credit card number"
      ]
    },
    {
      "cell_type": "code",
      "execution_count": 36,
      "outputs": [
        {
          "output_type": "display_data",
          "data": {
            "application/vnd.livy.statement-meta+json": {
              "spark_pool": "cfraudsparkpool",
              "statement_id": 14,
              "statement_ids": [
                14
              ],
              "state": "finished",
              "livy_statement_state": "available",
              "spark_jobs": null,
              "session_id": "69",
              "normalized_state": "finished",
              "queued_time": "2025-05-12T09:13:58.920214Z",
              "session_start_time": null,
              "execution_start_time": "2025-05-12T09:14:11.9664944Z",
              "execution_finish_time": "2025-05-12T09:14:12.2291252Z",
              "parent_msg_id": "434fffc9-582d-4b56-844a-c41ed7cdf5f7"
            },
            "text/plain": "StatementMeta(cfraudsparkpool, 69, 14, Finished, Available, Finished)"
          },
          "metadata": {}
        },
        {
          "output_type": "execute_result",
          "data": {
            "text/plain": "StructType([StructField('trans_num', StringType(), True), StructField('cc_num', StringType(), True), StructField('gender', StringType(), True), StructField('dob', DateType(), True), StructField('job', StringType(), True), StructField('street', StringType(), True), StructField('city', StringType(), True), StructField('state', StringType(), True), StructField('zip', IntegerType(), True), StructField('lat', DoubleType(), True), StructField('long', DoubleType(), True), StructField('city_pop', IntegerType(), True), StructField('firstName', StringType(), True), StructField('LastName', StringType(), True), StructField('age', IntegerType(), True), StructField('category', StringType(), True), StructField('merch_lat', DoubleType(), True), StructField('merch_long', DoubleType(), True), StructField('merch_zipcode', IntegerType(), True), StructField('merchant_clean', StringType(), True), StructField('trans_date_trans_time', TimestampType(), True), StructField('amt', DoubleType(), True), StructField('unix_time', LongType(), True), StructField('is_fraud', IntegerType(), True), StructField('amt_corrected', DoubleType(), True)])"
          },
          "execution_count": 29,
          "metadata": {}
        }
      ],
      "metadata": {},
      "source": [
        "cus_mer_tran_df.schema"
      ]
    },
    {
      "cell_type": "code",
      "execution_count": 37,
      "outputs": [
        {
          "output_type": "display_data",
          "data": {
            "application/vnd.livy.statement-meta+json": {
              "spark_pool": "cfraudsparkpool",
              "statement_id": 15,
              "statement_ids": [
                15
              ],
              "state": "finished",
              "livy_statement_state": "available",
              "spark_jobs": null,
              "session_id": "69",
              "normalized_state": "finished",
              "queued_time": "2025-05-12T09:13:59.3724294Z",
              "session_start_time": null,
              "execution_start_time": "2025-05-12T09:14:12.2435296Z",
              "execution_finish_time": "2025-05-12T09:14:12.5003069Z",
              "parent_msg_id": "41ca0ed2-1c08-4173-a7c4-4ab00edfffbc"
            },
            "text/plain": "StatementMeta(cfraudsparkpool, 69, 15, Finished, Available, Finished)"
          },
          "metadata": {}
        }
      ],
      "metadata": {},
      "source": [
        "from pyspark.sql.functions import concat, lit, col\n",
        "\n",
        "cus_mer_tran_df = cus_mer_tran_df.withColumn(\n",
        "    \"cc_num_masked\",\n",
        "    concat(lit(\"************\"), col(\"cc_num\").substr(-4, 4))\n",
        ")\n",
        ""
      ]
    },
    {
      "cell_type": "markdown",
      "metadata": {
        "nteract": {
          "transient": {
            "deleting": false
          }
        }
      },
      "source": [
        "###### Dropping the previos column named cc_num "
      ]
    },
    {
      "cell_type": "code",
      "execution_count": 38,
      "outputs": [
        {
          "output_type": "display_data",
          "data": {
            "application/vnd.livy.statement-meta+json": {
              "spark_pool": "cfraudsparkpool",
              "statement_id": 16,
              "statement_ids": [
                16
              ],
              "state": "finished",
              "livy_statement_state": "available",
              "spark_jobs": null,
              "session_id": "69",
              "normalized_state": "finished",
              "queued_time": "2025-05-12T09:14:00.6476156Z",
              "session_start_time": null,
              "execution_start_time": "2025-05-12T09:14:12.5142307Z",
              "execution_finish_time": "2025-05-12T09:14:12.7647627Z",
              "parent_msg_id": "19bbfeaa-dba8-431e-8d23-65b9acbb0c18"
            },
            "text/plain": "StatementMeta(cfraudsparkpool, 69, 16, Finished, Available, Finished)"
          },
          "metadata": {}
        },
        {
          "output_type": "execute_result",
          "data": {
            "text/plain": "StructType([StructField('trans_num', StringType(), True), StructField('gender', StringType(), True), StructField('dob', DateType(), True), StructField('job', StringType(), True), StructField('street', StringType(), True), StructField('city', StringType(), True), StructField('state', StringType(), True), StructField('zip', IntegerType(), True), StructField('lat', DoubleType(), True), StructField('long', DoubleType(), True), StructField('city_pop', IntegerType(), True), StructField('firstName', StringType(), True), StructField('LastName', StringType(), True), StructField('age', IntegerType(), True), StructField('category', StringType(), True), StructField('merch_lat', DoubleType(), True), StructField('merch_long', DoubleType(), True), StructField('merch_zipcode', IntegerType(), True), StructField('merchant_clean', StringType(), True), StructField('trans_date_trans_time', TimestampType(), True), StructField('amt', DoubleType(), True), StructField('unix_time', LongType(), True), StructField('is_fraud', IntegerType(), True), StructField('cc_num_masked', StringType(), True)])"
          },
          "execution_count": 33,
          "metadata": {}
        }
      ],
      "metadata": {},
      "source": [
        "cus_mer_tran_df = cus_mer_tran_df.drop(\"cc_num\")\n",
        "cus_mer_tran_df = cus_mer_tran_df.drop(\"amt_corrected\")\n",
        "cus_mer_tran_df.schema"
      ]
    },
    {
      "cell_type": "markdown",
      "metadata": {
        "nteract": {
          "transient": {
            "deleting": false
          }
        }
      },
      "source": [
        "##### Dropping null values from dataframe "
      ]
    },
    {
      "cell_type": "code",
      "execution_count": 39,
      "outputs": [
        {
          "output_type": "display_data",
          "data": {
            "application/vnd.livy.statement-meta+json": {
              "spark_pool": "cfraudsparkpool",
              "statement_id": 17,
              "statement_ids": [
                17
              ],
              "state": "finished",
              "livy_statement_state": "available",
              "spark_jobs": null,
              "session_id": "69",
              "normalized_state": "finished",
              "queued_time": "2025-05-12T09:14:01.8638822Z",
              "session_start_time": null,
              "execution_start_time": "2025-05-12T09:14:12.781118Z",
              "execution_finish_time": "2025-05-12T09:14:13.0318158Z",
              "parent_msg_id": "997b4c3b-e27f-4ba5-82f7-6beb0d3f8501"
            },
            "text/plain": "StatementMeta(cfraudsparkpool, 69, 17, Finished, Available, Finished)"
          },
          "metadata": {}
        }
      ],
      "metadata": {},
      "source": [
        "cus_mer_tran_df = cus_mer_tran_df.dropna()"
      ]
    },
    {
      "cell_type": "code",
      "execution_count": 40,
      "outputs": [
        {
          "output_type": "display_data",
          "data": {
            "application/vnd.livy.statement-meta+json": {
              "spark_pool": "cfraudsparkpool",
              "statement_id": 18,
              "statement_ids": [
                18
              ],
              "state": "finished",
              "livy_statement_state": "available",
              "spark_jobs": null,
              "session_id": "69",
              "normalized_state": "finished",
              "queued_time": "2025-05-12T09:14:02.648137Z",
              "session_start_time": null,
              "execution_start_time": "2025-05-12T09:14:13.0478194Z",
              "execution_finish_time": "2025-05-12T09:14:18.6151782Z",
              "parent_msg_id": "ac2811c2-1474-45fe-a9dd-79737e0a9ae1"
            },
            "text/plain": "StatementMeta(cfraudsparkpool, 69, 18, Finished, Available, Finished)"
          },
          "metadata": {}
        },
        {
          "output_type": "stream",
          "name": "stdout",
          "text": "No Of  column 24\nCreditCardCleanData Schema -----------: StructType([StructField('trans_num', StringType(), True), StructField('gender', StringType(), True), StructField('dob', DateType(), True), StructField('job', StringType(), True), StructField('street', StringType(), True), StructField('city', StringType(), True), StructField('state', StringType(), True), StructField('zip', IntegerType(), True), StructField('lat', DoubleType(), True), StructField('long', DoubleType(), True), StructField('city_pop', IntegerType(), True), StructField('firstName', StringType(), True), StructField('LastName', StringType(), True), StructField('age', IntegerType(), True), StructField('category', StringType(), True), StructField('merch_lat', DoubleType(), True), StructField('merch_long', DoubleType(), True), StructField('merch_zipcode', IntegerType(), True), StructField('merchant_clean', StringType(), True), StructField('trans_date_trans_time', TimestampType(), True), StructField('amt', DoubleType(), True), StructField('unix_time', LongType(), True), StructField('is_fraud', IntegerType(), True), StructField('cc_num_masked', StringType(), True)])\nNo of row in  1067835\n"
        }
      ],
      "metadata": {},
      "source": [
        "print(\"No Of  column\",len(cus_mer_tran_df.columns))\n",
        "print(\"CreditCardCleanData Schema -----------:\",cus_mer_tran_df.schema)\n",
        "\n",
        "print(\"No of row in \" , cus_mer_tran_df.count())\n",
        ""
      ]
    },
    {
      "cell_type": "code",
      "execution_count": 20,
      "outputs": [
        {
          "output_type": "display_data",
          "data": {
            "application/vnd.livy.statement-meta+json": {
              "spark_pool": "cfraudsparkpool",
              "statement_id": 19,
              "statement_ids": [
                19
              ],
              "state": "finished",
              "livy_statement_state": "available",
              "spark_jobs": null,
              "session_id": "58",
              "normalized_state": "finished",
              "queued_time": "2025-05-12T06:51:40.0940623Z",
              "session_start_time": null,
              "execution_start_time": "2025-05-12T06:52:54.2803188Z",
              "execution_finish_time": "2025-05-12T06:52:54.5409463Z",
              "parent_msg_id": "1cb38bf7-ad9e-4307-a8fb-b0be7a137857"
            },
            "text/plain": "StatementMeta(cfraudsparkpool, 58, 19, Finished, Available, Finished)"
          },
          "metadata": {}
        }
      ],
      "metadata": {},
      "source": [
        "# gold-layer-data\n",
        "\n",
        "# Define the correct base path\n",
        "base_path = \"abfss://gold-layer-data@ccfrauddatalake.dfs.core.windows.net/credit-card-cus-mer-tran-data/\"\n",
        "\n",
        "#cus_mer_tran_df.write.mode(\"overwrite\").option(\"header\", \"true\").csv(base_path + \"CreditCardData\")"
      ]
    },
    {
      "cell_type": "markdown",
      "metadata": {
        "nteract": {
          "transient": {
            "deleting": false
          }
        }
      },
      "source": [
        "##### Writing the cleansed data into gold layer "
      ]
    },
    {
      "cell_type": "code",
      "execution_count": 21,
      "outputs": [
        {
          "output_type": "display_data",
          "data": {
            "application/vnd.livy.statement-meta+json": {
              "spark_pool": "cfraudsparkpool",
              "statement_id": 20,
              "statement_ids": [
                20
              ],
              "state": "submitted",
              "livy_statement_state": "running",
              "spark_jobs": null,
              "session_id": "58",
              "normalized_state": "running",
              "queued_time": "2025-05-12T06:51:40.1850367Z",
              "session_start_time": null,
              "execution_start_time": "2025-05-12T06:52:54.5560482Z",
              "execution_finish_time": null,
              "parent_msg_id": "fc5b6354-5358-4a3a-9b42-5e3cd4a27ed1"
            },
            "text/plain": "StatementMeta(cfraudsparkpool, 58, 20, Submitted, Running, Running)"
          },
          "metadata": {}
        }
      ],
      "metadata": {},
      "source": [
        "cus_mer_tran_df.coalesce(1) \\\n",
        "    .write.mode(\"overwrite\") \\\n",
        "    .option(\"header\", \"true\") \\\n",
        "    .csv(base_path + \"CreditCardDataSingleFile\")\n",
        ""
      ]
    },
    {
      "cell_type": "code",
      "execution_count": null,
      "outputs": [],
      "metadata": {},
      "source": [
        ""
      ]
    }
  ],
  "metadata": {
    "description": null,
    "save_output": true,
    "kernelspec": {
      "name": "synapse_pyspark",
      "display_name": "Synapse PySpark"
    },
    "language_info": {
      "name": "python"
    },
    "synapse_widget": {
      "version": "0.1",
      "state": {}
    }
  }
}