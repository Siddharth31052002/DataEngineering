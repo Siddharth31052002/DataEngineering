{
 "cells": [
  {
   "cell_type": "code",
   "execution_count": 3,
   "id": "a472e931-6b4f-42c5-9477-2a6961ae66f1",
   "metadata": {},
   "outputs": [
    {
     "name": "stderr",
     "output_type": "stream",
     "text": [
      "25/04/16 15:24:52 WARN SparkSession: Using an existing Spark session; only runtime SQL configurations will take effect.\n"
     ]
    }
   ],
   "source": [
    "from pyspark.sql import SparkSession\n",
    "spark = SparkSession.builder.appName(\"BankingDataAssessment\").getOrCreate()"
   ]
  },
  {
   "cell_type": "code",
   "execution_count": 84,
   "id": "caf9dabe-9bc5-4254-a98a-4c6a8854d862",
   "metadata": {},
   "outputs": [],
   "source": [
    "customer_data = [\n",
    "    (1, \"John Doe\", \"New York\", \"john.doe@example.com\"),\n",
    "    (2, \"Alice Smith\", \"Los Angeles\", \"alice.smith@example.com\"),\n",
    "    (3, \"Bob Johnson\", \"Chicago\", \"bob.johnson@example.com\"),\n",
    "    (4, \"Charlie Brown\", \"Houston\", \"charlie.brown@example.com\")\n",
    "]\n",
    "colum = [\"CustomerId\",\"Name\",\"City\",\"Email\"]\n",
    "cust_df = spark.createDataFrame(customer_data,colum)"
   ]
  },
  {
   "cell_type": "code",
   "execution_count": 85,
   "id": "cf19cddf-9814-40eb-bf1d-d0899faa6857",
   "metadata": {},
   "outputs": [
    {
     "name": "stdout",
     "output_type": "stream",
     "text": [
      "+----------+-------------+-----------+--------------------+\n",
      "|CustomerId|         Name|       City|               Email|\n",
      "+----------+-------------+-----------+--------------------+\n",
      "|         1|     John Doe|   New York|john.doe@example.com|\n",
      "|         2|  Alice Smith|Los Angeles|alice.smith@examp...|\n",
      "|         3|  Bob Johnson|    Chicago|bob.johnson@examp...|\n",
      "|         4|Charlie Brown|    Houston|charlie.brown@exa...|\n",
      "+----------+-------------+-----------+--------------------+\n",
      "\n"
     ]
    }
   ],
   "source": [
    "cust_df.show()"
   ]
  },
  {
   "cell_type": "code",
   "execution_count": 86,
   "id": "20b832fd-cefb-45e4-b75c-1885392225b6",
   "metadata": {},
   "outputs": [
    {
     "data": {
      "text/plain": [
       "DataFrame[CustomerId: bigint, Name: string, City: string, Email: string]"
      ]
     },
     "execution_count": 86,
     "metadata": {},
     "output_type": "execute_result"
    }
   ],
   "source": [
    "cust_df.limit(3)"
   ]
  },
  {
   "cell_type": "code",
   "execution_count": 87,
   "id": "e3671b6f-e56b-4b04-b628-7570853d7393",
   "metadata": {},
   "outputs": [
    {
     "name": "stdout",
     "output_type": "stream",
     "text": [
      "+----------+-----------+-----------+--------------------+\n",
      "|CustomerId|       Name|       City|               Email|\n",
      "+----------+-----------+-----------+--------------------+\n",
      "|         1|   John Doe|   New York|john.doe@example.com|\n",
      "|         2|Alice Smith|Los Angeles|alice.smith@examp...|\n",
      "+----------+-----------+-----------+--------------------+\n",
      "only showing top 2 rows\n",
      "\n"
     ]
    }
   ],
   "source": [
    "cust_df.show(2)"
   ]
  },
  {
   "cell_type": "code",
   "execution_count": 88,
   "id": "3a6db6f6-2e85-4571-aa92-f84618b08bb3",
   "metadata": {},
   "outputs": [],
   "source": [
    "transaction_data = [\n",
    "    (1, 1001, \"2025-01-01\", 2500.0),\n",
    "    (2, 1002, \"2025-01-02\", 5000.0),\n",
    "    (1, 1003, \"2025-01-03\", 1500.0),\n",
    "    (3, 1004, \"2025-02-01\", 1200.0),\n",
    "    (2, 1005, \"2025-02-05\", 3000.0),\n",
    "    (4, 1006, \"2025-02-10\", 4500.0)\n",
    "]\n",
    " \n",
    "transaction_columns = [\"CustomerID\", \"TransactionID\", \"TransactionDate\", \"Amount\"]"
   ]
  },
  {
   "cell_type": "code",
   "execution_count": 89,
   "id": "bf587afe-0fa6-430f-9113-5713a531e929",
   "metadata": {},
   "outputs": [],
   "source": [
    "tran_df = spark.createDataFrame(transaction_data, transaction_columns)"
   ]
  },
  {
   "cell_type": "code",
   "execution_count": 90,
   "id": "09e58187-513b-44ce-bb90-59dab85e0d5b",
   "metadata": {},
   "outputs": [
    {
     "name": "stdout",
     "output_type": "stream",
     "text": [
      "+----------+-------------+---------------+------+\n",
      "|CustomerID|TransactionID|TransactionDate|Amount|\n",
      "+----------+-------------+---------------+------+\n",
      "|         1|         1001|     2025-01-01|2500.0|\n",
      "|         2|         1002|     2025-01-02|5000.0|\n",
      "|         1|         1003|     2025-01-03|1500.0|\n",
      "|         3|         1004|     2025-02-01|1200.0|\n",
      "|         2|         1005|     2025-02-05|3000.0|\n",
      "|         4|         1006|     2025-02-10|4500.0|\n",
      "+----------+-------------+---------------+------+\n",
      "\n"
     ]
    }
   ],
   "source": [
    "tran_df.show()"
   ]
  },
  {
   "cell_type": "code",
   "execution_count": 91,
   "id": "8ef911e1-68a4-4a5a-94e3-cb8164b42547",
   "metadata": {},
   "outputs": [
    {
     "ename": "SyntaxError",
     "evalue": "incomplete input (3127207377.py, line 1)",
     "output_type": "error",
     "traceback": [
      "  \u001b[36mCell\u001b[39m\u001b[36m \u001b[39m\u001b[32mIn[91]\u001b[39m\u001b[32m, line 1\u001b[39m\n\u001b[31m    \u001b[39m\u001b[31m'''from pyspark.sql.types import *\u001b[39m\n    ^\n\u001b[31mSyntaxError\u001b[39m\u001b[31m:\u001b[39m incomplete input\n"
     ]
    }
   ],
   "source": [
    "'''from pyspark.sql.types import *\n",
    "from pyspark.sql import functions as F\n",
    "x = tran_df.groupBy(\"CustomerID\").agg(F.count(\"*\"))\n",
    "tran_df = tran_df.withColumn(\"TransactionDate\",F.to_date(F.col(\"TransactionDate\"),\"yyyy-MM-dd\"))"
   ]
  },
  {
   "cell_type": "code",
   "execution_count": 92,
   "id": "ba461afe-49d2-44dc-bd22-9ba9ca6bfb67",
   "metadata": {},
   "outputs": [
    {
     "name": "stdout",
     "output_type": "stream",
     "text": [
      "+----------+-------------+-----------+\n",
      "|CustomerID|         Name|Total_spent|\n",
      "+----------+-------------+-----------+\n",
      "|         1|     John Doe|     4000.0|\n",
      "|         2|  Alice Smith|     8000.0|\n",
      "|         3|  Bob Johnson|     1200.0|\n",
      "|         4|Charlie Brown|     4500.0|\n",
      "+----------+-------------+-----------+\n",
      "\n"
     ]
    }
   ],
   "source": [
    "x.show()"
   ]
  },
  {
   "cell_type": "code",
   "execution_count": 93,
   "id": "4d82247b-e7a4-42ab-8d6c-1453646d4531",
   "metadata": {},
   "outputs": [
    {
     "name": "stdout",
     "output_type": "stream",
     "text": [
      "root\n",
      " |-- CustomerID: long (nullable = true)\n",
      " |-- TransactionID: long (nullable = true)\n",
      " |-- TransactionDate: string (nullable = true)\n",
      " |-- Amount: double (nullable = true)\n",
      "\n"
     ]
    }
   ],
   "source": [
    "tran_df.printSchema()"
   ]
  },
  {
   "cell_type": "code",
   "execution_count": 94,
   "id": "246623ac-2d3d-4019-a1d8-5bae73d56d31",
   "metadata": {},
   "outputs": [],
   "source": [
    "joined = cust_df.join(tran_df,on=\"CustomerID\",how=\"inner\")"
   ]
  },
  {
   "cell_type": "code",
   "execution_count": 95,
   "id": "c10b6dd2-3e0b-4f3a-aa19-ea7a9a68ca59",
   "metadata": {},
   "outputs": [
    {
     "name": "stdout",
     "output_type": "stream",
     "text": [
      "+----------+-------------+-----------+--------------------+-------------+---------------+------+\n",
      "|CustomerId|         Name|       City|               Email|TransactionID|TransactionDate|Amount|\n",
      "+----------+-------------+-----------+--------------------+-------------+---------------+------+\n",
      "|         1|     John Doe|   New York|john.doe@example.com|         1001|     2025-01-01|2500.0|\n",
      "|         1|     John Doe|   New York|john.doe@example.com|         1003|     2025-01-03|1500.0|\n",
      "|         2|  Alice Smith|Los Angeles|alice.smith@examp...|         1002|     2025-01-02|5000.0|\n",
      "|         2|  Alice Smith|Los Angeles|alice.smith@examp...|         1005|     2025-02-05|3000.0|\n",
      "|         3|  Bob Johnson|    Chicago|bob.johnson@examp...|         1004|     2025-02-01|1200.0|\n",
      "|         4|Charlie Brown|    Houston|charlie.brown@exa...|         1006|     2025-02-10|4500.0|\n",
      "+----------+-------------+-----------+--------------------+-------------+---------------+------+\n",
      "\n"
     ]
    }
   ],
   "source": [
    "joined.show()"
   ]
  },
  {
   "cell_type": "code",
   "execution_count": 96,
   "id": "578e8cfd-7484-4e1f-b123-d8531dfc052b",
   "metadata": {},
   "outputs": [
    {
     "name": "stdout",
     "output_type": "stream",
     "text": [
      "Joined Data (Customers + Transactions):\n"
     ]
    }
   ],
   "source": [
    "print(\"Joined Data (Customers + Transactions):\")"
   ]
  },
  {
   "cell_type": "code",
   "execution_count": 97,
   "id": "67b959a1-3a45-49e0-ad0c-9905898dca3a",
   "metadata": {},
   "outputs": [
    {
     "name": "stdout",
     "output_type": "stream",
     "text": [
      "+----------+-------------+-----------+--------------------+-------------+---------------+------+\n",
      "|CustomerId|         Name|       City|               Email|TransactionID|TransactionDate|Amount|\n",
      "+----------+-------------+-----------+--------------------+-------------+---------------+------+\n",
      "|         2|  Alice Smith|Los Angeles|alice.smith@examp...|         1002|     2025-01-02|5000.0|\n",
      "|         4|Charlie Brown|    Houston|charlie.brown@exa...|         1006|     2025-02-10|4500.0|\n",
      "+----------+-------------+-----------+--------------------+-------------+---------------+------+\n",
      "\n"
     ]
    }
   ],
   "source": [
    "joined.filter(F.col(\"Amount\")>3000).show()\n"
   ]
  },
  {
   "cell_type": "code",
   "execution_count": 124,
   "id": "5a3a3d20-b075-402f-ae15-a8821a437f79",
   "metadata": {},
   "outputs": [
    {
     "name": "stdout",
     "output_type": "stream",
     "text": [
      "+----------+-------------+-----------+--------------------+-------------+---------------+------+------------------+\n",
      "|CustomerId|         Name|       City|               Email|TransactionID|TransactionDate|Amount|Total_amount_spent|\n",
      "+----------+-------------+-----------+--------------------+-------------+---------------+------+------------------+\n",
      "|         1|     John Doe|   New York|john.doe@example.com|         1003|     2025-01-03|1500.0|            4000.0|\n",
      "|         1|     John Doe|   New York|john.doe@example.com|         1001|     2025-01-01|2500.0|            4000.0|\n",
      "|         2|  Alice Smith|Los Angeles|alice.smith@examp...|         1005|     2025-02-05|3000.0|            8000.0|\n",
      "|         2|  Alice Smith|Los Angeles|alice.smith@examp...|         1002|     2025-01-02|5000.0|            8000.0|\n",
      "|         3|  Bob Johnson|    Chicago|bob.johnson@examp...|         1004|     2025-02-01|1200.0|            1200.0|\n",
      "|         4|Charlie Brown|    Houston|charlie.brown@exa...|         1006|     2025-02-10|4500.0|            4500.0|\n",
      "+----------+-------------+-----------+--------------------+-------------+---------------+------+------------------+\n",
      "\n"
     ]
    }
   ],
   "source": [
    "x = joined.groupBy(\"CustomerID\").agg(F.sum(F.col(\"Amount\")).alias(\"Total_amount_spent\"))\n",
    "final_df = joined.join(x,on=\"CustomerID\")\n",
    "final_df.show()"
   ]
  },
  {
   "cell_type": "code",
   "execution_count": 117,
   "id": "b8330dc6-3f73-49da-99c2-e04f0f46ea76",
   "metadata": {},
   "outputs": [
    {
     "name": "stderr",
     "output_type": "stream",
     "text": [
      "                                                                                "
     ]
    },
    {
     "name": "stdout",
     "output_type": "stream",
     "text": [
      "+----------+-------------+-----------+\n",
      "|CustomerID|         Name|Total_spent|\n",
      "+----------+-------------+-----------+\n",
      "|         1|     John Doe|     4000.0|\n",
      "|         2|  Alice Smith|     8000.0|\n",
      "|         3|  Bob Johnson|     1200.0|\n",
      "|         4|Charlie Brown|     4500.0|\n",
      "+----------+-------------+-----------+\n",
      "\n"
     ]
    }
   ],
   "source": [
    "#x = final_df.groupBy(\"CustomerID\",\"Name\").agg(F.sum(F.col(\"Amount\")).alias(\"Total_spent\"))\n",
    "#x.show()"
   ]
  },
  {
   "cell_type": "code",
   "execution_count": null,
   "id": "73e446cb-4a45-4f0b-a29a-07cc77438325",
   "metadata": {},
   "outputs": [],
   "source": []
  },
  {
   "cell_type": "code",
   "execution_count": 125,
   "id": "0a2c19e6-ead6-4516-a00f-fe0077b53716",
   "metadata": {},
   "outputs": [
    {
     "name": "stderr",
     "output_type": "stream",
     "text": [
      "[Stage 361:============>    (3 + 1) / 4][Stage 362:>                (0 + 3) / 4]"
     ]
    },
    {
     "name": "stdout",
     "output_type": "stream",
     "text": [
      "+----------+-------------+-----------+--------------------+-------------+---------------+------+-------------+----------------------+\n",
      "|CustomerId|         Name|       City|               Email|TransactionID|TransactionDate|Amount|         Name|Number_of_transactions|\n",
      "+----------+-------------+-----------+--------------------+-------------+---------------+------+-------------+----------------------+\n",
      "|         1|     John Doe|   New York|john.doe@example.com|         1003|     2025-01-03|1500.0|     John Doe|                     2|\n",
      "|         1|     John Doe|   New York|john.doe@example.com|         1001|     2025-01-01|2500.0|     John Doe|                     2|\n",
      "|         2|  Alice Smith|Los Angeles|alice.smith@examp...|         1005|     2025-02-05|3000.0|  Alice Smith|                     2|\n",
      "|         2|  Alice Smith|Los Angeles|alice.smith@examp...|         1002|     2025-01-02|5000.0|  Alice Smith|                     2|\n",
      "|         3|  Bob Johnson|    Chicago|bob.johnson@examp...|         1004|     2025-02-01|1200.0|  Bob Johnson|                     1|\n",
      "|         4|Charlie Brown|    Houston|charlie.brown@exa...|         1006|     2025-02-10|4500.0|Charlie Brown|                     1|\n",
      "+----------+-------------+-----------+--------------------+-------------+---------------+------+-------------+----------------------+\n",
      "\n"
     ]
    },
    {
     "name": "stderr",
     "output_type": "stream",
     "text": [
      "                                                                                "
     ]
    }
   ],
   "source": [
    "y = final_df.groupBy(\"CustomerID\",\"Name\").agg(F.count(F.col(\"TransactionID\")).alias(\"Number_of_transactions\"))\n",
    "final_dff = joined.join(y,on=\"CustomerID\",how=\"inner\")\n",
    "final_dff.show()"
   ]
  },
  {
   "cell_type": "code",
   "execution_count": 120,
   "id": "a59c34ca-10c6-4c71-91e8-0c843f0c68b3",
   "metadata": {},
   "outputs": [
    {
     "name": "stderr",
     "output_type": "stream",
     "text": [
      "[Stage 311:====>            (1 + 3) / 4][Stage 312:>                (0 + 1) / 4]"
     ]
    },
    {
     "name": "stdout",
     "output_type": "stream",
     "text": [
      "+----------+-----------+-----------+--------------------+-------------+---------------+------+-----------+----------------------+\n",
      "|CustomerId|       Name|       City|               Email|TransactionID|TransactionDate|Amount|       Name|Number_of_transactions|\n",
      "+----------+-----------+-----------+--------------------+-------------+---------------+------+-----------+----------------------+\n",
      "|         1|   John Doe|   New York|john.doe@example.com|         1003|     2025-01-03|1500.0|   John Doe|                     2|\n",
      "|         1|   John Doe|   New York|john.doe@example.com|         1001|     2025-01-01|2500.0|   John Doe|                     2|\n",
      "|         2|Alice Smith|Los Angeles|alice.smith@examp...|         1002|     2025-01-02|5000.0|Alice Smith|                     2|\n",
      "+----------+-----------+-----------+--------------------+-------------+---------------+------+-----------+----------------------+\n",
      "\n"
     ]
    },
    {
     "name": "stderr",
     "output_type": "stream",
     "text": [
      "                                                                                "
     ]
    }
   ],
   "source": [
    "final_dff.filter((F.col(\"TransactionDate\") >= \"2025-01-01\") & (F.col(\"TransactionDate\") <= \"2025-01-31\")).show()"
   ]
  },
  {
   "cell_type": "code",
   "execution_count": null,
   "id": "8aea0474-bf1b-45f4-81d0-c15b391ef97d",
   "metadata": {},
   "outputs": [],
   "source": []
  },
  {
   "cell_type": "code",
   "execution_count": null,
   "id": "155634e4-fd56-443c-ad9d-1e1b622b0754",
   "metadata": {},
   "outputs": [],
   "source": []
  }
 ],
 "metadata": {
  "kernelspec": {
   "display_name": "Python 3 (ipykernel)",
   "language": "python",
   "name": "python3"
  },
  "language_info": {
   "codemirror_mode": {
    "name": "ipython",
    "version": 3
   },
   "file_extension": ".py",
   "mimetype": "text/x-python",
   "name": "python",
   "nbconvert_exporter": "python",
   "pygments_lexer": "ipython3",
   "version": "3.12.3"
  }
 },
 "nbformat": 4,
 "nbformat_minor": 5
}
